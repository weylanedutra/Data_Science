{
  "nbformat": 4,
  "nbformat_minor": 0,
  "metadata": {
    "colab": {
      "name": "airbnb-nz.ipynb",
      "provenance": [],
      "collapsed_sections": [],
      "authorship_tag": "ABX9TyM2THVQUN+wakigk4wjlOYR",
      "include_colab_link": true
    },
    "kernelspec": {
      "name": "python3",
      "display_name": "Python 3"
    },
    "language_info": {
      "name": "python"
    }
  },
  "cells": [
    {
      "cell_type": "markdown",
      "metadata": {
        "id": "view-in-github",
        "colab_type": "text"
      },
      "source": [
        "<a href=\"https://colab.research.google.com/github/weylanedutra/data-science-portfolio/blob/main/airbnb_nz.ipynb\" target=\"_parent\"><img src=\"https://colab.research.google.com/assets/colab-badge.svg\" alt=\"Open In Colab\"/></a>"
      ]
    },
    {
      "cell_type": "markdown",
      "metadata": {
        "id": "s_21Vd5nMPoM"
      },
      "source": [
        "# **Exploratory Data Analysis on New Zealand Airbnb data in Python**\n",
        "\n",
        "<img alt=\"Analisando Airbnb\" width=\"100%\" src=\"https://images.unsplash.com/photo-1501884742805-c94fc1d8985b?ixid=MnwxMjA3fDB8MHxwaG90by1wYWdlfHx8fGVufDB8fHx8&ixlib=rb-1.2.1&auto=format&fit=crop&w=1051&q=80\">"
      ]
    },
    {
      "cell_type": "markdown",
      "metadata": {
        "id": "0zhzr8zLa4K7"
      },
      "source": [
        "## **1. Introduction**"
      ]
    },
    {
      "cell_type": "markdown",
      "metadata": {
        "id": "rxPzalpxbFtu"
      },
      "source": [
        "\n",
        "### **1.1 Airbnb**\n",
        "\n",
        "Airbnb is an inovative online platform that connects hosts (people who want to rent out their homes) and guests (people looking for accommodations) creating a personalized alternative way of accommodation. \n",
        "\n",
        "By 2021 the company had **hosted more than 900 million** people and become a unique service that is used by the whole world.\n",
        "\n",
        "The airbnb platform generate a lot of data that can be analysed to help the company to understand its business and get insights of it. Saying that, data analytcs become a crucial factor for them."
      ]
    },
    {
      "cell_type": "markdown",
      "metadata": {
        "id": "P_JoqUThsYp3"
      },
      "source": [
        "### **1.2 New Zealand**\n",
        "\n",
        "New Zealand, Aotearoa in Māori (the land of the long white cloud), is one of the most beautiful countries on earth, and even with its modest size, it packs a lot of history, culture, and attractions to experience and explore.\n",
        "\n",
        "Other than that, the country is known for its stunning national parks, dynamic Māori culture, incredible hiking trails, and world-class skiing and surfing. \n"
      ]
    },
    {
      "cell_type": "markdown",
      "metadata": {
        "id": "5wePciOgsYgU"
      },
      "source": [
        "### **1.3 Objectives**\n",
        "\n",
        "In this notebook, we are going to perform an **Exploratory Data Analysis** of airbnb in New Zealand in order to answer the following questions:\n",
        "\n",
        "1.   What is the average of minimum nights? \n",
        "2.   What is the most rented room type?\n",
        "3.   What is the average price in the country? \n",
        "4.   What is the most expensive and the cheapest location?\n",
        "5.   What is the location with more properties listed?\n",
        "6.   What is the correlation between the variables?"
      ]
    },
    {
      "cell_type": "markdown",
      "metadata": {
        "id": "cSvqELdDXz-g"
      },
      "source": [
        "## **2. Acquiring and loading data**"
      ]
    },
    {
      "cell_type": "markdown",
      "metadata": {
        "id": "aAISHbvibkjm"
      },
      "source": [
        "### **2.1 Data Source**\n",
        "\n",
        "* **Datasource:** [Inside Airbnb](http://insideairbnb.com/get-the-data.html)\n",
        "* **Location:** New Zealand\n",
        "* **File name:** `listings.csv` \n",
        "* **Description:** Summary information and metrics for listings in New Zealand.\n",
        "* **Last updated date:** The data used in this study was compiled in 16 June, 2021."
      ]
    },
    {
      "cell_type": "markdown",
      "metadata": {
        "id": "E8xO35Q1db6S"
      },
      "source": [
        "#### **2.1.1 Variables Glossary**\n",
        "\n",
        "| Attribute | Description\n",
        "| --- | --- |\n",
        "| `id` | Airbnb's unique identifier for the listing\n",
        "| `name` | Name of the listing\n",
        "| `host_id` | Airbnb's unique identifier for the host/user\n",
        "| `host_name` | Name of the host, usually just the first name(s)\n",
        "| `neighbourhood_group` | The neighbourhood group as geocoded\n",
        "| `neighbourhood` | Name of the neighbourhood\n",
        "| `latitude` | The World Geodetic System (WGS84) projection for latituded\n",
        "| `longitude` | The World Geodetic System (WGS84) projection for longitude\n",
        "| `room_type` | Type of room that is offered\n",
        "| `price` | Daily price in local currency\n",
        "| `minimum_nights` | Minimum number of night stay for the listing\n",
        "| `number_of_reviews` | The number of reviews the listing has\n",
        "| `number_of_reviews_ltm` | The number of reviews the listing has (in the last 12 months)\n",
        "| `last_review` | The date of the last/newest review\n",
        "| `reviews_per_month` | The number of reviews the listing has over the lifetime of the listing\n",
        "| `calculated_host_listings_count` | The number of listings the host has in the current scrape, in the city/region geography\n",
        "| `availability_365` | Number of days of availability within 365 days\n"
      ]
    },
    {
      "cell_type": "markdown",
      "metadata": {
        "id": "YhQOlrKiaYex"
      },
      "source": [
        "### **2.2 Load Python libraries**\n",
        "\n",
        "* `Pandas` library will be used for data analysis\n",
        "* `Matplotlib` and `Seaborn` libraries will be used for data visualization"
      ]
    },
    {
      "cell_type": "code",
      "metadata": {
        "id": "peCoMHBJMN9E"
      },
      "source": [
        "# Import the necessary packages\n",
        "\n",
        "import pandas as pd\n",
        "import matplotlib.pyplot as plt\n",
        "import seaborn as sns\n",
        "\n",
        "%matplotlib inline"
      ],
      "execution_count": 2,
      "outputs": []
    },
    {
      "cell_type": "markdown",
      "metadata": {
        "id": "SU0Y6UETbRx8"
      },
      "source": [
        "### **2.3 Load the dataset**"
      ]
    },
    {
      "cell_type": "code",
      "metadata": {
        "id": "cKwmwqBFZoXW"
      },
      "source": [
        "# Import the listings.csv file into a Dataframe\n",
        "\n",
        "airbnb = pd.read_csv('https://raw.githubusercontent.com/weylanedutra/data-science-portfolio/main/projects/airbnb-nz/listings.csv')"
      ],
      "execution_count": 3,
      "outputs": []
    },
    {
      "cell_type": "markdown",
      "metadata": {
        "id": "92LRnf3wefzR"
      },
      "source": [
        "## **3. Data Understanding**\n",
        "\n",
        "The objective of this step is to understand how the data is structured and create an initial awareness of the situation."
      ]
    },
    {
      "cell_type": "markdown",
      "metadata": {
        "id": "qAumLCyMu_ac"
      },
      "source": [
        "### **3.1 Structure**\n",
        "After we load the dataset, we need to understand it. Firstly, we check the top 5 index data to see how it looks like."
      ]
    },
    {
      "cell_type": "code",
      "metadata": {
        "colab": {
          "base_uri": "https://localhost:8080/",
          "height": 462
        },
        "id": "N24UoH0oaKce",
        "outputId": "f18f034a-6ec5-4deb-a2b8-a41c42512c52"
      },
      "source": [
        "# Check the top 5 index data\n",
        "\n",
        "airbnb.head()"
      ],
      "execution_count": 4,
      "outputs": [
        {
          "output_type": "execute_result",
          "data": {
            "text/html": [
              "<div>\n",
              "<style scoped>\n",
              "    .dataframe tbody tr th:only-of-type {\n",
              "        vertical-align: middle;\n",
              "    }\n",
              "\n",
              "    .dataframe tbody tr th {\n",
              "        vertical-align: top;\n",
              "    }\n",
              "\n",
              "    .dataframe thead th {\n",
              "        text-align: right;\n",
              "    }\n",
              "</style>\n",
              "<table border=\"1\" class=\"dataframe\">\n",
              "  <thead>\n",
              "    <tr style=\"text-align: right;\">\n",
              "      <th></th>\n",
              "      <th>id</th>\n",
              "      <th>name</th>\n",
              "      <th>host_id</th>\n",
              "      <th>host_name</th>\n",
              "      <th>neighbourhood_group</th>\n",
              "      <th>neighbourhood</th>\n",
              "      <th>latitude</th>\n",
              "      <th>longitude</th>\n",
              "      <th>room_type</th>\n",
              "      <th>price</th>\n",
              "      <th>minimum_nights</th>\n",
              "      <th>number_of_reviews</th>\n",
              "      <th>number_of_reviews_ltm</th>\n",
              "      <th>last_review</th>\n",
              "      <th>reviews_per_month</th>\n",
              "      <th>calculated_host_listings_count</th>\n",
              "      <th>availability_365</th>\n",
              "    </tr>\n",
              "  </thead>\n",
              "  <tbody>\n",
              "    <tr>\n",
              "      <th>0</th>\n",
              "      <td>47258696</td>\n",
              "      <td>Penthouse Apartment</td>\n",
              "      <td>381628080</td>\n",
              "      <td>Thomas</td>\n",
              "      <td>Gisborne District</td>\n",
              "      <td>Gisborne Ward</td>\n",
              "      <td>-38.67090</td>\n",
              "      <td>178.02813</td>\n",
              "      <td>Entire home/apt</td>\n",
              "      <td>411</td>\n",
              "      <td>2</td>\n",
              "      <td>4</td>\n",
              "      <td>4</td>\n",
              "      <td>2021-03-11</td>\n",
              "      <td>0.74</td>\n",
              "      <td>1</td>\n",
              "      <td>0</td>\n",
              "    </tr>\n",
              "    <tr>\n",
              "      <th>1</th>\n",
              "      <td>47706428</td>\n",
              "      <td>Mangapapa Villa - Whataupoko Fringe</td>\n",
              "      <td>40250379</td>\n",
              "      <td>Rachael</td>\n",
              "      <td>Gisborne District</td>\n",
              "      <td>Gisborne Ward</td>\n",
              "      <td>-38.64795</td>\n",
              "      <td>178.02200</td>\n",
              "      <td>Entire home/apt</td>\n",
              "      <td>309</td>\n",
              "      <td>3</td>\n",
              "      <td>0</td>\n",
              "      <td>0</td>\n",
              "      <td>NaN</td>\n",
              "      <td>NaN</td>\n",
              "      <td>1</td>\n",
              "      <td>0</td>\n",
              "    </tr>\n",
              "    <tr>\n",
              "      <th>2</th>\n",
              "      <td>25593717</td>\n",
              "      <td>Vineyard Vista</td>\n",
              "      <td>192973023</td>\n",
              "      <td>Louise</td>\n",
              "      <td>Gisborne District</td>\n",
              "      <td>Taruheru-Patutahi Ward</td>\n",
              "      <td>-38.59973</td>\n",
              "      <td>177.97217</td>\n",
              "      <td>Entire home/apt</td>\n",
              "      <td>99</td>\n",
              "      <td>2</td>\n",
              "      <td>187</td>\n",
              "      <td>55</td>\n",
              "      <td>2020-02-23</td>\n",
              "      <td>6.01</td>\n",
              "      <td>1</td>\n",
              "      <td>153</td>\n",
              "    </tr>\n",
              "    <tr>\n",
              "      <th>3</th>\n",
              "      <td>47887072</td>\n",
              "      <td>Mokonui Cottage - Farmstay Rere Gisborne</td>\n",
              "      <td>386006883</td>\n",
              "      <td>Tasmin</td>\n",
              "      <td>Gisborne District</td>\n",
              "      <td>Waipaoa Ward</td>\n",
              "      <td>-38.53593</td>\n",
              "      <td>177.55839</td>\n",
              "      <td>Entire home/apt</td>\n",
              "      <td>110</td>\n",
              "      <td>1</td>\n",
              "      <td>3</td>\n",
              "      <td>3</td>\n",
              "      <td>2021-02-07</td>\n",
              "      <td>1.41</td>\n",
              "      <td>1</td>\n",
              "      <td>12</td>\n",
              "    </tr>\n",
              "    <tr>\n",
              "      <th>4</th>\n",
              "      <td>42644070</td>\n",
              "      <td>Mahaanui Cottage Farmstay Experience, Gisborne NZ</td>\n",
              "      <td>161457574</td>\n",
              "      <td>Sally</td>\n",
              "      <td>Gisborne District</td>\n",
              "      <td>Waipaoa Ward</td>\n",
              "      <td>-38.73298</td>\n",
              "      <td>177.58658</td>\n",
              "      <td>Entire home/apt</td>\n",
              "      <td>206</td>\n",
              "      <td>2</td>\n",
              "      <td>11</td>\n",
              "      <td>9</td>\n",
              "      <td>2021-05-15</td>\n",
              "      <td>0.84</td>\n",
              "      <td>2</td>\n",
              "      <td>314</td>\n",
              "    </tr>\n",
              "  </tbody>\n",
              "</table>\n",
              "</div>"
            ],
            "text/plain": [
              "         id  ... availability_365\n",
              "0  47258696  ...                0\n",
              "1  47706428  ...                0\n",
              "2  25593717  ...              153\n",
              "3  47887072  ...               12\n",
              "4  42644070  ...              314\n",
              "\n",
              "[5 rows x 17 columns]"
            ]
          },
          "metadata": {},
          "execution_count": 4
        }
      ]
    },
    {
      "cell_type": "markdown",
      "metadata": {
        "id": "QrZcDz3bidui"
      },
      "source": [
        "### **3.2 Shape and Type**\n",
        "\n",
        "Let's go ahead and identify how big our dataset is and what is the data type of every column. "
      ]
    },
    {
      "cell_type": "code",
      "metadata": {
        "colab": {
          "base_uri": "https://localhost:8080/"
        },
        "id": "_4mokSXAfkWi",
        "outputId": "2ec69927-69e5-489e-a0fa-961943ed28c0"
      },
      "source": [
        "# Identify the volume\n",
        "\n",
        "nrow = airbnb.shape[0]\n",
        "ncol = airbnb.shape[1]\n",
        "print('Our dataset presents {} rows and {} columns.'.format(nrow, ncol))"
      ],
      "execution_count": 5,
      "outputs": [
        {
          "output_type": "stream",
          "name": "stdout",
          "text": [
            "Our dataset presents 39026 rows and 17 columns.\n"
          ]
        }
      ]
    },
    {
      "cell_type": "code",
      "metadata": {
        "colab": {
          "base_uri": "https://localhost:8080/",
          "height": 576
        },
        "id": "7VW8Qrncb7dc",
        "outputId": "7cfedbb7-287a-442d-808f-224dec20a7f9"
      },
      "source": [
        "# Identify the type and count unique values\n",
        "\n",
        "info = airbnb.nunique().sort_values()\n",
        "info = pd.DataFrame(info.values, index = info.index, columns = ['Unique Values'])\n",
        "info['Type'] = airbnb.dtypes\n",
        "info"
      ],
      "execution_count": 6,
      "outputs": [
        {
          "output_type": "execute_result",
          "data": {
            "text/html": [
              "<div>\n",
              "<style scoped>\n",
              "    .dataframe tbody tr th:only-of-type {\n",
              "        vertical-align: middle;\n",
              "    }\n",
              "\n",
              "    .dataframe tbody tr th {\n",
              "        vertical-align: top;\n",
              "    }\n",
              "\n",
              "    .dataframe thead th {\n",
              "        text-align: right;\n",
              "    }\n",
              "</style>\n",
              "<table border=\"1\" class=\"dataframe\">\n",
              "  <thead>\n",
              "    <tr style=\"text-align: right;\">\n",
              "      <th></th>\n",
              "      <th>Unique Values</th>\n",
              "      <th>Type</th>\n",
              "    </tr>\n",
              "  </thead>\n",
              "  <tbody>\n",
              "    <tr>\n",
              "      <th>room_type</th>\n",
              "      <td>4</td>\n",
              "      <td>object</td>\n",
              "    </tr>\n",
              "    <tr>\n",
              "      <th>calculated_host_listings_count</th>\n",
              "      <td>59</td>\n",
              "      <td>int64</td>\n",
              "    </tr>\n",
              "    <tr>\n",
              "      <th>minimum_nights</th>\n",
              "      <td>62</td>\n",
              "      <td>int64</td>\n",
              "    </tr>\n",
              "    <tr>\n",
              "      <th>neighbourhood_group</th>\n",
              "      <td>67</td>\n",
              "      <td>object</td>\n",
              "    </tr>\n",
              "    <tr>\n",
              "      <th>number_of_reviews_ltm</th>\n",
              "      <td>172</td>\n",
              "      <td>int64</td>\n",
              "    </tr>\n",
              "    <tr>\n",
              "      <th>neighbourhood</th>\n",
              "      <td>211</td>\n",
              "      <td>object</td>\n",
              "    </tr>\n",
              "    <tr>\n",
              "      <th>availability_365</th>\n",
              "      <td>366</td>\n",
              "      <td>int64</td>\n",
              "    </tr>\n",
              "    <tr>\n",
              "      <th>number_of_reviews</th>\n",
              "      <td>550</td>\n",
              "      <td>int64</td>\n",
              "    </tr>\n",
              "    <tr>\n",
              "      <th>price</th>\n",
              "      <td>1154</td>\n",
              "      <td>int64</td>\n",
              "    </tr>\n",
              "    <tr>\n",
              "      <th>reviews_per_month</th>\n",
              "      <td>1270</td>\n",
              "      <td>float64</td>\n",
              "    </tr>\n",
              "    <tr>\n",
              "      <th>last_review</th>\n",
              "      <td>1772</td>\n",
              "      <td>object</td>\n",
              "    </tr>\n",
              "    <tr>\n",
              "      <th>host_name</th>\n",
              "      <td>7511</td>\n",
              "      <td>object</td>\n",
              "    </tr>\n",
              "    <tr>\n",
              "      <th>host_id</th>\n",
              "      <td>24556</td>\n",
              "      <td>int64</td>\n",
              "    </tr>\n",
              "    <tr>\n",
              "      <th>latitude</th>\n",
              "      <td>34746</td>\n",
              "      <td>float64</td>\n",
              "    </tr>\n",
              "    <tr>\n",
              "      <th>longitude</th>\n",
              "      <td>35137</td>\n",
              "      <td>float64</td>\n",
              "    </tr>\n",
              "    <tr>\n",
              "      <th>name</th>\n",
              "      <td>38078</td>\n",
              "      <td>object</td>\n",
              "    </tr>\n",
              "    <tr>\n",
              "      <th>id</th>\n",
              "      <td>39026</td>\n",
              "      <td>int64</td>\n",
              "    </tr>\n",
              "  </tbody>\n",
              "</table>\n",
              "</div>"
            ],
            "text/plain": [
              "                                Unique Values     Type\n",
              "room_type                                   4   object\n",
              "calculated_host_listings_count             59    int64\n",
              "minimum_nights                             62    int64\n",
              "neighbourhood_group                        67   object\n",
              "number_of_reviews_ltm                     172    int64\n",
              "neighbourhood                             211   object\n",
              "availability_365                          366    int64\n",
              "number_of_reviews                         550    int64\n",
              "price                                    1154    int64\n",
              "reviews_per_month                        1270  float64\n",
              "last_review                              1772   object\n",
              "host_name                                7511   object\n",
              "host_id                                 24556    int64\n",
              "latitude                                34746  float64\n",
              "longitude                               35137  float64\n",
              "name                                    38078   object\n",
              "id                                      39026    int64"
            ]
          },
          "metadata": {},
          "execution_count": 6
        }
      ]
    },
    {
      "cell_type": "markdown",
      "metadata": {
        "id": "J_chIviR4QFO"
      },
      "source": [
        "The dataset presents **object**, **int64** and **float64** types."
      ]
    },
    {
      "cell_type": "markdown",
      "metadata": {
        "id": "lFQlciPKwT6D"
      },
      "source": [
        "## **4. Data Preparation**"
      ]
    },
    {
      "cell_type": "markdown",
      "metadata": {
        "id": "4pCDx9kehkfS"
      },
      "source": [
        "### **4.1 Missing Values**\n",
        "\n",
        "The quality of a dataset is directly related to the amount of missing values. It is important to understand early on whether these null values are significant compared to the total entries.\n"
      ]
    },
    {
      "cell_type": "code",
      "metadata": {
        "colab": {
          "base_uri": "https://localhost:8080/"
        },
        "id": "-O4A-VRRjIn0",
        "outputId": "a979ed10-6f13-49f5-c057-5bb008e91ac2"
      },
      "source": [
        "# Check missing values (%)\n",
        "\n",
        "null = airbnb.isnull().sum()\n",
        "shape = airbnb.shape[0]\n",
        "null_perc = ((null / shape) * 100).round(2).sort_values(ascending=False)\n",
        "null_perc"
      ],
      "execution_count": 7,
      "outputs": [
        {
          "output_type": "execute_result",
          "data": {
            "text/plain": [
              "reviews_per_month                 12.07\n",
              "last_review                       12.07\n",
              "host_name                          0.02\n",
              "name                               0.01\n",
              "availability_365                   0.00\n",
              "latitude                           0.00\n",
              "host_id                            0.00\n",
              "neighbourhood_group                0.00\n",
              "neighbourhood                      0.00\n",
              "room_type                          0.00\n",
              "longitude                          0.00\n",
              "calculated_host_listings_count     0.00\n",
              "price                              0.00\n",
              "minimum_nights                     0.00\n",
              "number_of_reviews                  0.00\n",
              "number_of_reviews_ltm              0.00\n",
              "id                                 0.00\n",
              "dtype: float64"
            ]
          },
          "metadata": {},
          "execution_count": 7
        }
      ]
    },
    {
      "cell_type": "markdown",
      "metadata": {
        "id": "tQoT7rtziEMd"
      },
      "source": [
        "\n",
        "* The `reviews_per_month` and `last_review` variables have null values in circa 12% of the lines.\n",
        "* The `host_name` and `name` have 0.02% and 0.01%, respectively, of null values.\n"
      ]
    },
    {
      "cell_type": "markdown",
      "metadata": {
        "id": "2pPOjSILVuii"
      },
      "source": [
        "### **4.2 Duplicated Rows**"
      ]
    },
    {
      "cell_type": "code",
      "metadata": {
        "colab": {
          "base_uri": "https://localhost:8080/"
        },
        "id": "T3hnU4ZTawAK",
        "outputId": "845a602d-bbd2-460b-afc8-0b9110b08c06"
      },
      "source": [
        "# Check duplicates\n",
        "\n",
        "airbnb.duplicated().sum()"
      ],
      "execution_count": 8,
      "outputs": [
        {
          "output_type": "execute_result",
          "data": {
            "text/plain": [
              "0"
            ]
          },
          "metadata": {},
          "execution_count": 8
        }
      ]
    },
    {
      "cell_type": "markdown",
      "metadata": {
        "id": "Uy8F-V1DbPIB"
      },
      "source": [
        "**There are no duplicated** records in this dataset."
      ]
    },
    {
      "cell_type": "markdown",
      "metadata": {
        "id": "-YT-YNUaxgM2"
      },
      "source": [
        "### **4.3 Removing redundant variables**\n",
        "\n",
        "In this dataset, the missing values observed do not need treatment as we will not use the `reviews_per_month`, `last_review`, `host_name` and `name` to answer the required questions. It also did not present duplicated values. \n",
        "\n",
        "Looking into the information we have, we can state that following variables are not relevant for our analysis:\n",
        "\n",
        "*   `last_review`\n",
        "*   `host_name`\n",
        "*   `name`\n",
        "\n",
        "Therefore, we can drop them from our dataset."
      ]
    },
    {
      "cell_type": "code",
      "metadata": {
        "colab": {
          "base_uri": "https://localhost:8080/",
          "height": 289
        },
        "id": "W6rI4dMPz8P2",
        "outputId": "857262f7-3d33-4167-df4d-03055c16ab0c"
      },
      "source": [
        "# Drop unnecessary columns\n",
        "\n",
        "airbnb.drop(['last_review', 'host_name', 'name'], axis=1, inplace=True)\n",
        "airbnb.head()"
      ],
      "execution_count": 9,
      "outputs": [
        {
          "output_type": "execute_result",
          "data": {
            "text/html": [
              "<div>\n",
              "<style scoped>\n",
              "    .dataframe tbody tr th:only-of-type {\n",
              "        vertical-align: middle;\n",
              "    }\n",
              "\n",
              "    .dataframe tbody tr th {\n",
              "        vertical-align: top;\n",
              "    }\n",
              "\n",
              "    .dataframe thead th {\n",
              "        text-align: right;\n",
              "    }\n",
              "</style>\n",
              "<table border=\"1\" class=\"dataframe\">\n",
              "  <thead>\n",
              "    <tr style=\"text-align: right;\">\n",
              "      <th></th>\n",
              "      <th>id</th>\n",
              "      <th>host_id</th>\n",
              "      <th>neighbourhood_group</th>\n",
              "      <th>neighbourhood</th>\n",
              "      <th>latitude</th>\n",
              "      <th>longitude</th>\n",
              "      <th>room_type</th>\n",
              "      <th>price</th>\n",
              "      <th>minimum_nights</th>\n",
              "      <th>number_of_reviews</th>\n",
              "      <th>number_of_reviews_ltm</th>\n",
              "      <th>reviews_per_month</th>\n",
              "      <th>calculated_host_listings_count</th>\n",
              "      <th>availability_365</th>\n",
              "    </tr>\n",
              "  </thead>\n",
              "  <tbody>\n",
              "    <tr>\n",
              "      <th>0</th>\n",
              "      <td>47258696</td>\n",
              "      <td>381628080</td>\n",
              "      <td>Gisborne District</td>\n",
              "      <td>Gisborne Ward</td>\n",
              "      <td>-38.67090</td>\n",
              "      <td>178.02813</td>\n",
              "      <td>Entire home/apt</td>\n",
              "      <td>411</td>\n",
              "      <td>2</td>\n",
              "      <td>4</td>\n",
              "      <td>4</td>\n",
              "      <td>0.74</td>\n",
              "      <td>1</td>\n",
              "      <td>0</td>\n",
              "    </tr>\n",
              "    <tr>\n",
              "      <th>1</th>\n",
              "      <td>47706428</td>\n",
              "      <td>40250379</td>\n",
              "      <td>Gisborne District</td>\n",
              "      <td>Gisborne Ward</td>\n",
              "      <td>-38.64795</td>\n",
              "      <td>178.02200</td>\n",
              "      <td>Entire home/apt</td>\n",
              "      <td>309</td>\n",
              "      <td>3</td>\n",
              "      <td>0</td>\n",
              "      <td>0</td>\n",
              "      <td>NaN</td>\n",
              "      <td>1</td>\n",
              "      <td>0</td>\n",
              "    </tr>\n",
              "    <tr>\n",
              "      <th>2</th>\n",
              "      <td>25593717</td>\n",
              "      <td>192973023</td>\n",
              "      <td>Gisborne District</td>\n",
              "      <td>Taruheru-Patutahi Ward</td>\n",
              "      <td>-38.59973</td>\n",
              "      <td>177.97217</td>\n",
              "      <td>Entire home/apt</td>\n",
              "      <td>99</td>\n",
              "      <td>2</td>\n",
              "      <td>187</td>\n",
              "      <td>55</td>\n",
              "      <td>6.01</td>\n",
              "      <td>1</td>\n",
              "      <td>153</td>\n",
              "    </tr>\n",
              "    <tr>\n",
              "      <th>3</th>\n",
              "      <td>47887072</td>\n",
              "      <td>386006883</td>\n",
              "      <td>Gisborne District</td>\n",
              "      <td>Waipaoa Ward</td>\n",
              "      <td>-38.53593</td>\n",
              "      <td>177.55839</td>\n",
              "      <td>Entire home/apt</td>\n",
              "      <td>110</td>\n",
              "      <td>1</td>\n",
              "      <td>3</td>\n",
              "      <td>3</td>\n",
              "      <td>1.41</td>\n",
              "      <td>1</td>\n",
              "      <td>12</td>\n",
              "    </tr>\n",
              "    <tr>\n",
              "      <th>4</th>\n",
              "      <td>42644070</td>\n",
              "      <td>161457574</td>\n",
              "      <td>Gisborne District</td>\n",
              "      <td>Waipaoa Ward</td>\n",
              "      <td>-38.73298</td>\n",
              "      <td>177.58658</td>\n",
              "      <td>Entire home/apt</td>\n",
              "      <td>206</td>\n",
              "      <td>2</td>\n",
              "      <td>11</td>\n",
              "      <td>9</td>\n",
              "      <td>0.84</td>\n",
              "      <td>2</td>\n",
              "      <td>314</td>\n",
              "    </tr>\n",
              "  </tbody>\n",
              "</table>\n",
              "</div>"
            ],
            "text/plain": [
              "         id    host_id  ... calculated_host_listings_count availability_365\n",
              "0  47258696  381628080  ...                              1                0\n",
              "1  47706428   40250379  ...                              1                0\n",
              "2  25593717  192973023  ...                              1              153\n",
              "3  47887072  386006883  ...                              1               12\n",
              "4  42644070  161457574  ...                              2              314\n",
              "\n",
              "[5 rows x 14 columns]"
            ]
          },
          "metadata": {},
          "execution_count": 9
        }
      ]
    },
    {
      "cell_type": "markdown",
      "metadata": {
        "id": "vNKn2g2on1Fr"
      },
      "source": [
        "### **4.3 Distribution**\n",
        "\n",
        "To identify the distribution of variables, we can plot the histogram."
      ]
    },
    {
      "cell_type": "markdown",
      "metadata": {
        "id": "UvFlfDEjtQMB"
      },
      "source": [
        "#### **4.3.1 Before clean outliers**"
      ]
    },
    {
      "cell_type": "code",
      "metadata": {
        "colab": {
          "base_uri": "https://localhost:8080/",
          "height": 607
        },
        "id": "negTQJMJj0zK",
        "outputId": "c718e5ca-e214-4468-fd41-07173174a0dd"
      },
      "source": [
        "# Plot the histogram of numerical variables\n",
        "\n",
        "airbnb.hist(bins=20, figsize=(15,10), color=\"Steelblue\", grid=True);"
      ],
      "execution_count": 10,
      "outputs": [
        {
          "output_type": "display_data",
          "data": {
            "image/png": "[encoded data removed]",
            "text/plain": [
              "<Figure size 1080x720 with 12 Axes>"
            ]
          },
          "metadata": {
            "needs_background": "light"
          }
        }
      ]
    },
    {
      "cell_type": "markdown",
      "metadata": {
        "id": "7gM9CyF45Oih"
      },
      "source": [
        "Based on the distribution of the visuals, we can see evidences that the dataset may present outliers in the following variables: `longitude`, `price`, `minimum_nights`, `reviews_per_month`, `calculated_host_listings_count`."
      ]
    },
    {
      "cell_type": "markdown",
      "metadata": {
        "id": "dRMjeZs4tdDv"
      },
      "source": [
        "#### **4.3.2 Cleaning outliers**"
      ]
    },
    {
      "cell_type": "markdown",
      "metadata": {
        "id": "pcvPxI7PtlxT"
      },
      "source": [
        "Outliers are an extreme value that deviates from the other observations in the dataset. These values does not follow the a distribution and distort the entire graphical representation. \n",
        "\n",
        "To confirm, there are two quick ways to help detect outliers. Are they:\n",
        "\n",
        "* Statistical summary using the describe() method\n",
        "* Calculate the Interquartile Range (IQR)\n",
        "* Plot boxplots for the variable"
      ]
    },
    {
      "cell_type": "code",
      "metadata": {
        "colab": {
          "base_uri": "https://localhost:8080/",
          "height": 297
        },
        "id": "enuGQdttYAzl",
        "outputId": "02ef79c3-2fcc-4a6d-a3f1-580f4f5af6b7"
      },
      "source": [
        "# See statistical summary \n",
        "\n",
        "airbnb[['longitude', 'price', 'minimum_nights', 'reviews_per_month', \n",
        "        'calculated_host_listings_count']].describe()"
      ],
      "execution_count": 11,
      "outputs": [
        {
          "output_type": "execute_result",
          "data": {
            "text/html": [
              "<div>\n",
              "<style scoped>\n",
              "    .dataframe tbody tr th:only-of-type {\n",
              "        vertical-align: middle;\n",
              "    }\n",
              "\n",
              "    .dataframe tbody tr th {\n",
              "        vertical-align: top;\n",
              "    }\n",
              "\n",
              "    .dataframe thead th {\n",
              "        text-align: right;\n",
              "    }\n",
              "</style>\n",
              "<table border=\"1\" class=\"dataframe\">\n",
              "  <thead>\n",
              "    <tr style=\"text-align: right;\">\n",
              "      <th></th>\n",
              "      <th>longitude</th>\n",
              "      <th>price</th>\n",
              "      <th>minimum_nights</th>\n",
              "      <th>reviews_per_month</th>\n",
              "      <th>calculated_host_listings_count</th>\n",
              "    </tr>\n",
              "  </thead>\n",
              "  <tbody>\n",
              "    <tr>\n",
              "      <th>count</th>\n",
              "      <td>39026.000000</td>\n",
              "      <td>39026.000000</td>\n",
              "      <td>39026.000000</td>\n",
              "      <td>34316.000000</td>\n",
              "      <td>39026.000000</td>\n",
              "    </tr>\n",
              "    <tr>\n",
              "      <th>mean</th>\n",
              "      <td>173.648701</td>\n",
              "      <td>227.435786</td>\n",
              "      <td>2.422334</td>\n",
              "      <td>1.898623</td>\n",
              "      <td>35.423564</td>\n",
              "    </tr>\n",
              "    <tr>\n",
              "      <th>std</th>\n",
              "      <td>3.967591</td>\n",
              "      <td>496.958527</td>\n",
              "      <td>10.804603</td>\n",
              "      <td>3.060724</td>\n",
              "      <td>161.585543</td>\n",
              "    </tr>\n",
              "    <tr>\n",
              "      <th>min</th>\n",
              "      <td>-176.558530</td>\n",
              "      <td>12.000000</td>\n",
              "      <td>1.000000</td>\n",
              "      <td>0.010000</td>\n",
              "      <td>1.000000</td>\n",
              "    </tr>\n",
              "    <tr>\n",
              "      <th>25%</th>\n",
              "      <td>172.623830</td>\n",
              "      <td>95.000000</td>\n",
              "      <td>1.000000</td>\n",
              "      <td>0.370000</td>\n",
              "      <td>1.000000</td>\n",
              "    </tr>\n",
              "    <tr>\n",
              "      <th>50%</th>\n",
              "      <td>174.730185</td>\n",
              "      <td>150.000000</td>\n",
              "      <td>2.000000</td>\n",
              "      <td>1.050000</td>\n",
              "      <td>2.000000</td>\n",
              "    </tr>\n",
              "    <tr>\n",
              "      <th>75%</th>\n",
              "      <td>175.407120</td>\n",
              "      <td>250.000000</td>\n",
              "      <td>2.000000</td>\n",
              "      <td>2.512500</td>\n",
              "      <td>4.000000</td>\n",
              "    </tr>\n",
              "    <tr>\n",
              "      <th>max</th>\n",
              "      <td>178.479460</td>\n",
              "      <td>53788.000000</td>\n",
              "      <td>1000.000000</td>\n",
              "      <td>199.570000</td>\n",
              "      <td>1005.000000</td>\n",
              "    </tr>\n",
              "  </tbody>\n",
              "</table>\n",
              "</div>"
            ],
            "text/plain": [
              "          longitude  ...  calculated_host_listings_count\n",
              "count  39026.000000  ...                    39026.000000\n",
              "mean     173.648701  ...                       35.423564\n",
              "std        3.967591  ...                      161.585543\n",
              "min     -176.558530  ...                        1.000000\n",
              "25%      172.623830  ...                        1.000000\n",
              "50%      174.730185  ...                        2.000000\n",
              "75%      175.407120  ...                        4.000000\n",
              "max      178.479460  ...                     1005.000000\n",
              "\n",
              "[8 rows x 5 columns]"
            ]
          },
          "metadata": {},
          "execution_count": 11
        }
      ]
    },
    {
      "cell_type": "markdown",
      "metadata": {
        "id": "Y9pT7x63ZcKB"
      },
      "source": [
        "Looking at the statistical summary above, we can confirm some hypotheses such as:\n",
        "\n",
        "* The `longitude` maximum is 178.48, its average is 173.65, but its minimum is -176.56.\n",
        "* The `price` variable has most of its value below NZD 250, but its maximum value is NZD 53,788.\n",
        "* The maximum value of `minimum_nights` is above 365 days in the year.\n",
        "* 75% of `reviews_per_month` is less than 2.51, but its maximum is 199.57.\n",
        "* The `calculated_host_listings_count` has most of its values less than 4, but its maximum is 1005. \n"
      ]
    },
    {
      "cell_type": "markdown",
      "metadata": {
        "id": "ehb4HBlJpPmn"
      },
      "source": [
        "There are several ways to clean _outliers_. For this analysis, we will use the IQR (_Interquartile Range_), defining minimum and maximum limits as we can see in the figure below.\n",
        "\n",
        "<p><img src=\"https://miro.medium.com/max/18000/1*2c21SkzJMf3frPXPAR_gZA.png\n",
        "\", width=\"50%\"></p>\n",
        "\n",
        "Formula:\n",
        "\n",
        "    IQR = Q3 - Q1\n",
        "\n",
        "The IQR is calculated subtracting the Third Quartile (75%) by the First Quartile (25%).\n",
        "\n",
        "To calculate the max and min, we use the following formulas:\n",
        "\n",
        "- Minimum: **Q1 - (1.5 * IQR)**\n",
        "- Maximum: **Q3 + (1.5 * IQR)**\n"
      ]
    },
    {
      "cell_type": "markdown",
      "metadata": {
        "id": "UhofZt0Cd4go"
      },
      "source": [
        "##### **4.3.2.1 Price**"
      ]
    },
    {
      "cell_type": "code",
      "metadata": {
        "colab": {
          "base_uri": "https://localhost:8080/"
        },
        "id": "zqVVh8u7qEB2",
        "outputId": "b11cc75e-b134-47b0-d1d0-13e9905e8ae3"
      },
      "source": [
        "# price IQR\n",
        "\n",
        "q1_price = airbnb.price.quantile(0.25)\n",
        "q3_price = airbnb.price.quantile(0.75)\n",
        "iqr_price = q3_price - q1_price\n",
        "print('Price IQR: {:.2f}'.format(iqr_price))\n",
        "\n",
        "# Price MAX\n",
        "\n",
        "max_price = q3_price + (1.5 * iqr_price)\n",
        "print('Price MAX: {:.2f}'.format(max_price))\n",
        "\n",
        "# Price MIN\n",
        "\n",
        "min_price = q1_price - (1.5 * iqr_price)\n",
        "print('Price MIN: {:.2f}'.format(min_price))"
      ],
      "execution_count": 12,
      "outputs": [
        {
          "output_type": "stream",
          "name": "stdout",
          "text": [
            "Price IQR: 155.00\n",
            "Price MAX: 482.50\n",
            "Price MIN: -137.50\n"
          ]
        }
      ]
    },
    {
      "cell_type": "code",
      "metadata": {
        "id": "huGMufQSm5so",
        "colab": {
          "base_uri": "https://localhost:8080/",
          "height": 276
        },
        "outputId": "91de3aa4-b1e2-40db-b2ef-7a83080339b1"
      },
      "source": [
        "# See values over MAX\n",
        "\n",
        "max_price_entries = len(airbnb[airbnb.price > max_price])\n",
        "max_price_perc = (max_price_entries / airbnb.shape[0]) * 100\n",
        "print(\"The dataset presents {} entries ({:.2f}%) over NZD {:.2f}.\".format(max_price_entries, max_price_perc, max_price))\n",
        "\n",
        "# See values below MIN\n",
        "\n",
        "min_price_entries = len(airbnb[airbnb.price < min_price])\n",
        "min_price_perc = (min_price_entries / airbnb.shape[0]) * 100\n",
        "print(\"The dataset presents {} entries ({:.2f}%) less than NZD {:.2f}.\\n\".format(min_price_entries, min_price_perc, min_price))\n",
        "\n",
        "# Boxplot for price\n",
        "\n",
        "airbnb.price.plot(kind ='box', vert=False, figsize=(15,3))\n",
        "plt.tight_layout()"
      ],
      "execution_count": 13,
      "outputs": [
        {
          "output_type": "stream",
          "name": "stdout",
          "text": [
            "The dataset presents 2977 entries (7.63%) over NZD 482.50.\n",
            "The dataset presents 0 entries (0.00%) less than NZD -137.50.\n",
            "\n"
          ]
        },
        {
          "output_type": "display_data",
          "data": {
            "image/png": "[encoded data removed]",
            "text/plain": [
              "<Figure size 1080x216 with 1 Axes>"
            ]
          },
          "metadata": {
            "needs_background": "light"
          }
        }
      ]
    },
    {
      "cell_type": "markdown",
      "metadata": {
        "id": "aXYUMO8WfB6G"
      },
      "source": [
        "##### **4.3.2.2 Longitude**"
      ]
    },
    {
      "cell_type": "code",
      "metadata": {
        "colab": {
          "base_uri": "https://localhost:8080/"
        },
        "id": "LSwQPsePsy7b",
        "outputId": "b1c63bcb-880c-457c-8538-4e6030e857f0"
      },
      "source": [
        "# Longitude IQR\n",
        "\n",
        "q1_long = airbnb.longitude.quantile(0.25)\n",
        "q3_long = airbnb.longitude.quantile(0.75)\n",
        "iqr_long = q3_long - q1_long\n",
        "print('Longitude IQR: {:.2f}'.format(iqr_long))\n",
        "\n",
        "# Longitude MAX\n",
        "\n",
        "max_long = q3_long + (1.5 * iqr_long)\n",
        "print('Longitude MAX: {:.2f}'.format(max_long))\n",
        "\n",
        "# Longitude MIN\n",
        "\n",
        "min_long = q1_long - (1.5 * iqr_long)\n",
        "print('Longitude MIN: {:.2f}'.format(min_long))"
      ],
      "execution_count": 14,
      "outputs": [
        {
          "output_type": "stream",
          "name": "stdout",
          "text": [
            "Longitude IQR: 2.78\n",
            "Longitude MAX: 179.58\n",
            "Longitude MIN: 168.45\n"
          ]
        }
      ]
    },
    {
      "cell_type": "code",
      "metadata": {
        "colab": {
          "base_uri": "https://localhost:8080/",
          "height": 276
        },
        "id": "Xcfk6WOatwnf",
        "outputId": "31c5f249-862d-489a-d849-eb0bab512977"
      },
      "source": [
        "# See values over MAX\n",
        "\n",
        "max_long_entries = len(airbnb[airbnb.longitude > max_long])\n",
        "max_long_perc = (max_long_entries / airbnb.shape[0]) * 100\n",
        "print(\"The dataset presents {} entries ({:.2f}%) with longitude over than {:.2f}.\".format(max_long_entries, max_long_perc, max_long))\n",
        "\n",
        "# See values below MIN\n",
        "\n",
        "min_long_entries = len(airbnb[airbnb.longitude < min_long])\n",
        "min_long_perc = (min_long_entries / airbnb.shape[0]) * 100\n",
        "print(\"The dataset presents {} entries ({:.2f}%) with longitude less than {:.2f}.\\n\".format(min_long_entries, min_long_perc, min_long))\n",
        "\n",
        "# Boxplot for longitude\n",
        "\n",
        "airbnb.longitude.plot(kind='box', vert=False, figsize=(15,3))\n",
        "plt.tight_layout()"
      ],
      "execution_count": 15,
      "outputs": [
        {
          "output_type": "stream",
          "name": "stdout",
          "text": [
            "The dataset presents 0 entries (0.00%) with longitude over than 179.58.\n",
            "The dataset presents 768 entries (1.97%) with longitude less than 168.45.\n",
            "\n"
          ]
        },
        {
          "output_type": "display_data",
          "data": {
            "image/png": "[encoded data removed]",
            "text/plain": [
              "<Figure size 1080x216 with 1 Axes>"
            ]
          },
          "metadata": {
            "needs_background": "light"
          }
        }
      ]
    },
    {
      "cell_type": "markdown",
      "metadata": {
        "id": "90VN4-h_i7-0"
      },
      "source": [
        "##### **4.3.2.3 Minimum Nights**"
      ]
    },
    {
      "cell_type": "code",
      "metadata": {
        "colab": {
          "base_uri": "https://localhost:8080/"
        },
        "id": "wOYQVcbct7ok",
        "outputId": "de0a684b-9edb-4461-ba01-98d45b68555b"
      },
      "source": [
        "#  Minimum Nights IQR\n",
        "\n",
        "q1_min_nig = airbnb.minimum_nights.quantile(.25)\n",
        "q3_min_nig = airbnb.minimum_nights.quantile(.75)\n",
        "iqr_min_nig = q3_min_nig - q1_min_nig\n",
        "print('Minimum Nights IQR: {:.2f}'.format(iqr_min_nig))\n",
        "\n",
        "#  Minimum Nights MAX\n",
        "\n",
        "max_min_nig = q3_min_nig + (1.5 * iqr_min_nig)\n",
        "print('Minimum Nights MAX: {:.2f}'.format(max_min_nig))\n",
        "\n",
        "#  Minimum Nights MIN\n",
        "\n",
        "min_min_nig = q1_min_nig - (1.5 * iqr_min_nig)\n",
        "print('Minimum Nights MIN: {:.2f}'.format(min_min_nig))"
      ],
      "execution_count": 16,
      "outputs": [
        {
          "output_type": "stream",
          "name": "stdout",
          "text": [
            "Minimum Nights IQR: 1.00\n",
            "Minimum Nights MAX: 3.50\n",
            "Minimum Nights MIN: -0.50\n"
          ]
        }
      ]
    },
    {
      "cell_type": "code",
      "metadata": {
        "colab": {
          "base_uri": "https://localhost:8080/",
          "height": 276
        },
        "id": "ET4-_xpX56Wa",
        "outputId": "6dcb65ef-ba50-4309-8c4e-c8092b66b5d4"
      },
      "source": [
        "# See values over MAX\n",
        "\n",
        "max_min_nig_entries = len(airbnb[airbnb.minimum_nights > max_min_nig])\n",
        "max_min_nig_perc = (max_min_nig_entries / airbnb.shape[0]) * 100\n",
        "print(\"The dataset presents {} entries ({:.2f}%) over {:.2f} minimum nights.\".format(max_min_nig_entries, max_min_nig_perc, max_min_nig))\n",
        "\n",
        "# See values below MIN\n",
        "\n",
        "min_min_nig_entries = len(airbnb[airbnb.minimum_nights < min_min_nig])\n",
        "min_min_nig_perc = (min_min_nig_entries / airbnb.shape[0]) * 100\n",
        "print(\"The dataset presents {} entries ({:.2f}%) below {:.2f} minimum nights.\\n\".format(min_min_nig_entries, min_min_nig_perc, min_min_nig))\n",
        "\n",
        "# Boxplot for minimum_nights\n",
        "\n",
        "airbnb.minimum_nights.plot(kind='box', vert=False, figsize=(15,3))\n",
        "plt.tight_layout()"
      ],
      "execution_count": 17,
      "outputs": [
        {
          "output_type": "stream",
          "name": "stdout",
          "text": [
            "The dataset presents 2544 entries (6.52%) over 3.50 minimum nights.\n",
            "The dataset presents 0 entries (0.00%) below -0.50 minimum nights.\n",
            "\n"
          ]
        },
        {
          "output_type": "display_data",
          "data": {
            "image/png": "[encoded data removed]",
            "text/plain": [
              "<Figure size 1080x216 with 1 Axes>"
            ]
          },
          "metadata": {
            "needs_background": "light"
          }
        }
      ]
    },
    {
      "cell_type": "markdown",
      "metadata": {
        "id": "LJk-IL6qkWI2"
      },
      "source": [
        "##### **4.3.2.4 Reviews per Month**"
      ]
    },
    {
      "cell_type": "code",
      "metadata": {
        "colab": {
          "base_uri": "https://localhost:8080/"
        },
        "id": "l-EOUeAt19KU",
        "outputId": "781afa63-1d84-4d43-ae67-182cb68e94ad"
      },
      "source": [
        "# Reviews per Month IQR\n",
        "\n",
        "q1_r_month = airbnb.reviews_per_month.quantile(.25)\n",
        "q3_r_month = airbnb.reviews_per_month.quantile(.75)\n",
        "iqr_r_month = q3_r_month - q1_r_month\n",
        "print('Reviews per Month IQR: {:.2f}'.format(iqr_r_month))\n",
        "\n",
        "# Reviews per Month MAX\n",
        "\n",
        "max_r_month = q3_r_month + (1.5 * iqr_r_month)\n",
        "print('Reviews per Month MAX: {:.2f}'.format(max_r_month))\n",
        "\n",
        "# Reviews per Month MIN\n",
        "\n",
        "min_r_month= q1_r_month - (1.5 * iqr_r_month)\n",
        "print('Reviews per Month MIN: {:.2f}'.format(min_r_month))"
      ],
      "execution_count": 18,
      "outputs": [
        {
          "output_type": "stream",
          "name": "stdout",
          "text": [
            "Reviews per Month IQR: 2.14\n",
            "Reviews per Month MAX: 5.73\n",
            "Reviews per Month MIN: -2.84\n"
          ]
        }
      ]
    },
    {
      "cell_type": "code",
      "metadata": {
        "colab": {
          "base_uri": "https://localhost:8080/",
          "height": 276
        },
        "id": "8TdLPUjk18-y",
        "outputId": "6be6b41c-6e60-40d0-fb6d-aff227aa6838"
      },
      "source": [
        "# See values over MAX\n",
        "\n",
        "max_r_month_entries = len(airbnb[airbnb.reviews_per_month > max_r_month])\n",
        "max_r_month_perc = (max_r_month_entries / airbnb.shape[0]) * 100\n",
        "print(\"The dataset presents {} entries ({:.2f}%) over {:.2f} reviews per month.\".format(max_r_month_entries, max_r_month_perc, max_r_month))\n",
        "\n",
        "# See values below MIN\n",
        "\n",
        "min_r_month_entries = len(airbnb[airbnb.reviews_per_month < min_r_month])\n",
        "min_r_month_perc = (min_r_month_entries / airbnb.shape[0]) * 100\n",
        "print(\"The dataset presents {} entries ({:.2f}%) less than {:.2f} reviews per month.\\n\".format(min_r_month_entries, min_r_month_perc, min_r_month))\n",
        "\n",
        "# Boxplot for reviews_per_month\n",
        "\n",
        "airbnb.reviews_per_month.plot(kind='box', vert=False, figsize=(15,3))\n",
        "plt.tight_layout()"
      ],
      "execution_count": 19,
      "outputs": [
        {
          "output_type": "stream",
          "name": "stdout",
          "text": [
            "The dataset presents 2086 entries (5.35%) over 5.73 reviews per month.\n",
            "The dataset presents 0 entries (0.00%) less than -2.84 reviews per month.\n",
            "\n"
          ]
        },
        {
          "output_type": "display_data",
          "data": {
            "image/png": "[encoded data removed]",
            "text/plain": [
              "<Figure size 1080x216 with 1 Axes>"
            ]
          },
          "metadata": {
            "needs_background": "light"
          }
        }
      ]
    },
    {
      "cell_type": "markdown",
      "metadata": {
        "id": "0ZnXzJk7lOlC"
      },
      "source": [
        "##### **4.3.2.5 Calculated Host Listings Count**"
      ]
    },
    {
      "cell_type": "code",
      "metadata": {
        "colab": {
          "base_uri": "https://localhost:8080/"
        },
        "id": "xjP0vlImw23S",
        "outputId": "dd223e30-d8e6-4122-8168-0f3b60b0b67d"
      },
      "source": [
        "# Calculated Host Listings Count IQR\n",
        "\n",
        "q1_l_count = airbnb.calculated_host_listings_count.quantile(.25)\n",
        "q3_l_count = airbnb.calculated_host_listings_count.quantile(.75)\n",
        "iqr_l_count = q3_l_count - q1_l_count\n",
        "print('Calculated Host Listings Count IQR: {:.2f}'.format(iqr_l_count))\n",
        "\n",
        "# Calculated Host Listings Count IQR\n",
        "\n",
        "max_l_count = q3_l_count + (1.5 * iqr_l_count)\n",
        "print('Calculated Host Listings Count MAX: {:.2f}'.format(max_l_count))\n",
        "\n",
        "# Calculated Host Listings Count IQR\n",
        "\n",
        "min_l_count = q1_l_count - (1.5 * iqr_l_count)\n",
        "print('Calculated Host Listings Count MIN: {:.2f}'.format(min_l_count))"
      ],
      "execution_count": 20,
      "outputs": [
        {
          "output_type": "stream",
          "name": "stdout",
          "text": [
            "Calculated Host Listings Count IQR: 3.00\n",
            "Calculated Host Listings Count MAX: 8.50\n",
            "Calculated Host Listings Count MIN: -3.50\n"
          ]
        }
      ]
    },
    {
      "cell_type": "code",
      "metadata": {
        "colab": {
          "base_uri": "https://localhost:8080/",
          "height": 276
        },
        "id": "hfBsgIlGZmG8",
        "outputId": "7c6b1da3-8c10-44f4-8219-7a1fdc459c0f"
      },
      "source": [
        "# See values over MAX\n",
        "\n",
        "max_l_count_entries = len(airbnb[airbnb.calculated_host_listings_count > max_l_count])\n",
        "max_l_count_perc = (max_l_count_entries / airbnb.shape[0]) * 100\n",
        "print(\"The dataset presents {} entries ({:.2f}%) over {:.2f} count of listisngs by host.\".format(max_l_count_entries, max_l_count_perc, max_l_count))\n",
        "\n",
        "# See values below MIN\n",
        "\n",
        "min_l_count_entries = len(airbnb[airbnb.calculated_host_listings_count < min_l_count])\n",
        "min_l_count_perc = (min_l_count_entries / airbnb.shape[0]) * 100\n",
        "print(\"The dataset presents {} entries ({:.2f}%) less than {:.2f} count of listisngs by host.\\n\".format(min_l_count_entries, min_l_count_perc, min_l_count))\n",
        "\n",
        "# Boxplot for calculated_host_listings_count\n",
        "\n",
        "airbnb.calculated_host_listings_count.plot(kind='box', vert=False, figsize=(15,3))\n",
        "plt.tight_layout()"
      ],
      "execution_count": 21,
      "outputs": [
        {
          "output_type": "stream",
          "name": "stdout",
          "text": [
            "The dataset presents 6439 entries (16.50%) over 8.50 count of listisngs by host.\n",
            "The dataset presents 0 entries (0.00%) less than -3.50 count of listisngs by host.\n",
            "\n"
          ]
        },
        {
          "output_type": "display_data",
          "data": {
            "image/png": "[encoded data removed]",
            "text/plain": [
              "<Figure size 1080x216 with 1 Axes>"
            ]
          },
          "metadata": {
            "needs_background": "light"
          }
        }
      ]
    },
    {
      "cell_type": "markdown",
      "metadata": {
        "id": "Dql_PbmgoDuS"
      },
      "source": [
        "##### **4.3.2.6 Removing Outliers**"
      ]
    },
    {
      "cell_type": "markdown",
      "metadata": {
        "id": "Hs1BX--8-aeg"
      },
      "source": [
        "Since we have identified outliers in the `longitude`, `price`, `minimum_nights`, `number_of_reviews`, and `calculated_host_listings_count` variables, let's now remove them. "
      ]
    },
    {
      "cell_type": "code",
      "metadata": {
        "id": "iamjXs70t6zd"
      },
      "source": [
        "# Remove outliers in a new dataframe\n",
        "\n",
        "airbnb_clean = airbnb.copy()\n",
        "airbnb_clean.drop(airbnb_clean[airbnb_clean.longitude < min_long].index, axis = 0, inplace = True)\n",
        "airbnb_clean.drop(airbnb_clean[airbnb_clean.price > max_price].index, axis = 0, inplace = True)\n",
        "airbnb_clean.drop(airbnb_clean[airbnb_clean.minimum_nights > max_min_nig].index, axis = 0, inplace = True)\n",
        "airbnb_clean.drop(airbnb_clean[airbnb_clean.reviews_per_month > max_r_month].index, axis = 0, inplace = True)\n",
        "airbnb_clean.drop(airbnb_clean[airbnb_clean.calculated_host_listings_count > max_l_count].index, axis = 0, inplace = True)"
      ],
      "execution_count": 22,
      "outputs": []
    },
    {
      "cell_type": "markdown",
      "metadata": {
        "id": "KRs6DFJVtwgj"
      },
      "source": [
        "#### **4.3.3 Distribution after clean outliers**"
      ]
    },
    {
      "cell_type": "code",
      "metadata": {
        "colab": {
          "base_uri": "https://localhost:8080/",
          "height": 607
        },
        "id": "M3e-OHCl9qXs",
        "outputId": "f5eaae4f-74d6-4eb9-ea35-208061abe53d"
      },
      "source": [
        "# Plot the histogram for numeric variables\n",
        "\n",
        "airbnb_clean.hist(bins=20, figsize=(15,10), color=\"Steelblue\", grid=True);"
      ],
      "execution_count": 23,
      "outputs": [
        {
          "output_type": "display_data",
          "data": {
            "image/png": "[encoded data removed]",
            "text/plain": [
              "<Figure size 1080x720 with 12 Axes>"
            ]
          },
          "metadata": {
            "needs_background": "light"
          }
        }
      ]
    },
    {
      "cell_type": "code",
      "metadata": {
        "colab": {
          "base_uri": "https://localhost:8080/",
          "height": 297
        },
        "id": "uKN7zapr87VK",
        "outputId": "9b97f004-b7f1-4c79-fbdc-d1ca3de9d2f3"
      },
      "source": [
        "# Summary \n",
        "\n",
        "airbnb_clean.describe()"
      ],
      "execution_count": 24,
      "outputs": [
        {
          "output_type": "execute_result",
          "data": {
            "text/html": [
              "<div>\n",
              "<style scoped>\n",
              "    .dataframe tbody tr th:only-of-type {\n",
              "        vertical-align: middle;\n",
              "    }\n",
              "\n",
              "    .dataframe tbody tr th {\n",
              "        vertical-align: top;\n",
              "    }\n",
              "\n",
              "    .dataframe thead th {\n",
              "        text-align: right;\n",
              "    }\n",
              "</style>\n",
              "<table border=\"1\" class=\"dataframe\">\n",
              "  <thead>\n",
              "    <tr style=\"text-align: right;\">\n",
              "      <th></th>\n",
              "      <th>id</th>\n",
              "      <th>host_id</th>\n",
              "      <th>latitude</th>\n",
              "      <th>longitude</th>\n",
              "      <th>price</th>\n",
              "      <th>minimum_nights</th>\n",
              "      <th>number_of_reviews</th>\n",
              "      <th>number_of_reviews_ltm</th>\n",
              "      <th>reviews_per_month</th>\n",
              "      <th>calculated_host_listings_count</th>\n",
              "      <th>availability_365</th>\n",
              "    </tr>\n",
              "  </thead>\n",
              "  <tbody>\n",
              "    <tr>\n",
              "      <th>count</th>\n",
              "      <td>2.625500e+04</td>\n",
              "      <td>2.625500e+04</td>\n",
              "      <td>26255.000000</td>\n",
              "      <td>26255.000000</td>\n",
              "      <td>26255.000000</td>\n",
              "      <td>26255.000000</td>\n",
              "      <td>26255.000000</td>\n",
              "      <td>26255.000000</td>\n",
              "      <td>23846.000000</td>\n",
              "      <td>26255.000000</td>\n",
              "      <td>26255.000000</td>\n",
              "    </tr>\n",
              "    <tr>\n",
              "      <th>mean</th>\n",
              "      <td>2.937611e+07</td>\n",
              "      <td>1.308941e+08</td>\n",
              "      <td>-39.896264</td>\n",
              "      <td>173.912121</td>\n",
              "      <td>154.601562</td>\n",
              "      <td>1.567016</td>\n",
              "      <td>41.430813</td>\n",
              "      <td>10.372653</td>\n",
              "      <td>1.599901</td>\n",
              "      <td>1.923405</td>\n",
              "      <td>165.907027</td>\n",
              "    </tr>\n",
              "    <tr>\n",
              "      <th>std</th>\n",
              "      <td>1.330483e+07</td>\n",
              "      <td>1.051925e+08</td>\n",
              "      <td>3.181071</td>\n",
              "      <td>2.277945</td>\n",
              "      <td>92.077253</td>\n",
              "      <td>0.623241</td>\n",
              "      <td>55.078132</td>\n",
              "      <td>13.868587</td>\n",
              "      <td>1.407435</td>\n",
              "      <td>1.506581</td>\n",
              "      <td>129.380083</td>\n",
              "    </tr>\n",
              "    <tr>\n",
              "      <th>min</th>\n",
              "      <td>6.113000e+03</td>\n",
              "      <td>2.576000e+03</td>\n",
              "      <td>-46.663550</td>\n",
              "      <td>168.452910</td>\n",
              "      <td>12.000000</td>\n",
              "      <td>1.000000</td>\n",
              "      <td>0.000000</td>\n",
              "      <td>0.000000</td>\n",
              "      <td>0.010000</td>\n",
              "      <td>1.000000</td>\n",
              "      <td>0.000000</td>\n",
              "    </tr>\n",
              "    <tr>\n",
              "      <th>25%</th>\n",
              "      <td>1.827633e+07</td>\n",
              "      <td>4.549595e+07</td>\n",
              "      <td>-42.722420</td>\n",
              "      <td>172.710480</td>\n",
              "      <td>88.000000</td>\n",
              "      <td>1.000000</td>\n",
              "      <td>5.000000</td>\n",
              "      <td>0.000000</td>\n",
              "      <td>0.450000</td>\n",
              "      <td>1.000000</td>\n",
              "      <td>48.000000</td>\n",
              "    </tr>\n",
              "    <tr>\n",
              "      <th>50%</th>\n",
              "      <td>3.016292e+07</td>\n",
              "      <td>1.047417e+08</td>\n",
              "      <td>-39.081450</td>\n",
              "      <td>174.736970</td>\n",
              "      <td>130.000000</td>\n",
              "      <td>1.000000</td>\n",
              "      <td>20.000000</td>\n",
              "      <td>5.000000</td>\n",
              "      <td>1.160000</td>\n",
              "      <td>1.000000</td>\n",
              "      <td>160.000000</td>\n",
              "    </tr>\n",
              "    <tr>\n",
              "      <th>75%</th>\n",
              "      <td>4.122117e+07</td>\n",
              "      <td>1.968227e+08</td>\n",
              "      <td>-36.920525</td>\n",
              "      <td>175.451400</td>\n",
              "      <td>200.000000</td>\n",
              "      <td>2.000000</td>\n",
              "      <td>57.000000</td>\n",
              "      <td>15.000000</td>\n",
              "      <td>2.410000</td>\n",
              "      <td>2.000000</td>\n",
              "      <td>298.000000</td>\n",
              "    </tr>\n",
              "    <tr>\n",
              "      <th>max</th>\n",
              "      <td>5.042977e+07</td>\n",
              "      <td>4.073551e+08</td>\n",
              "      <td>-34.516090</td>\n",
              "      <td>178.479460</td>\n",
              "      <td>481.000000</td>\n",
              "      <td>3.000000</td>\n",
              "      <td>479.000000</td>\n",
              "      <td>126.000000</td>\n",
              "      <td>5.720000</td>\n",
              "      <td>8.000000</td>\n",
              "      <td>365.000000</td>\n",
              "    </tr>\n",
              "  </tbody>\n",
              "</table>\n",
              "</div>"
            ],
            "text/plain": [
              "                 id  ...  availability_365\n",
              "count  2.625500e+04  ...      26255.000000\n",
              "mean   2.937611e+07  ...        165.907027\n",
              "std    1.330483e+07  ...        129.380083\n",
              "min    6.113000e+03  ...          0.000000\n",
              "25%    1.827633e+07  ...         48.000000\n",
              "50%    3.016292e+07  ...        160.000000\n",
              "75%    4.122117e+07  ...        298.000000\n",
              "max    5.042977e+07  ...        365.000000\n",
              "\n",
              "[8 rows x 11 columns]"
            ]
          },
          "metadata": {},
          "execution_count": 24
        }
      ]
    },
    {
      "cell_type": "code",
      "metadata": {
        "colab": {
          "base_uri": "https://localhost:8080/",
          "height": 221
        },
        "id": "rDkhrqQ8skos",
        "outputId": "970f499a-daa5-4900-b6cb-dca7c9d50703"
      },
      "source": [
        "# Boxplot for price\n",
        "\n",
        "airbnb_clean.price.plot(kind='box', vert=False, figsize=(15,3))\n",
        "plt.tight_layout()"
      ],
      "execution_count": 44,
      "outputs": [
        {
          "output_type": "display_data",
          "data": {
            "image/png": "[encoded data removed]",
            "text/plain": [
              "<Figure size 1080x216 with 1 Axes>"
            ]
          },
          "metadata": {}
        }
      ]
    },
    {
      "cell_type": "code",
      "metadata": {
        "colab": {
          "base_uri": "https://localhost:8080/",
          "height": 221
        },
        "id": "-SjN0uqaski1",
        "outputId": "52606a2b-1466-42cf-fef2-72d4839310f7"
      },
      "source": [
        "# Boxplot for longitude\n",
        "\n",
        "airbnb_clean.longitude.plot(kind='box', vert=False, figsize=(15,3))\n",
        "plt.tight_layout()"
      ],
      "execution_count": 40,
      "outputs": [
        {
          "output_type": "display_data",
          "data": {
            "image/png": "[encoded data removed]",
            "text/plain": [
              "<Figure size 1080x216 with 1 Axes>"
            ]
          },
          "metadata": {}
        }
      ]
    },
    {
      "cell_type": "code",
      "metadata": {
        "colab": {
          "base_uri": "https://localhost:8080/",
          "height": 221
        },
        "id": "z-7Coes7skd5",
        "outputId": "650bcb64-8610-4d30-9fd8-b9c92013c1e1"
      },
      "source": [
        "# Boxplot for minimum_nights\n",
        "\n",
        "airbnb_clean.minimum_nights.plot(kind='box', vert=False, figsize=(15,3))\n",
        "plt.tight_layout()"
      ],
      "execution_count": 41,
      "outputs": [
        {
          "output_type": "display_data",
          "data": {
            "image/png": "[encoded data removed]",
            "text/plain": [
              "<Figure size 1080x216 with 1 Axes>"
            ]
          },
          "metadata": {}
        }
      ]
    },
    {
      "cell_type": "code",
      "metadata": {
        "colab": {
          "base_uri": "https://localhost:8080/",
          "height": 221
        },
        "id": "cyOPDTZPskWz",
        "outputId": "72fb434b-50dc-489b-cd05-a3cf9e045369"
      },
      "source": [
        "# Boxplot for reviews_per_month\n",
        "\n",
        "airbnb_clean.reviews_per_month.plot(kind='box', vert=False, figsize=(15,3))\n",
        "plt.tight_layout()"
      ],
      "execution_count": 45,
      "outputs": [
        {
          "output_type": "display_data",
          "data": {
            "image/png": "[encoded data removed]",
            "text/plain": [
              "<Figure size 1080x216 with 1 Axes>"
            ]
          },
          "metadata": {}
        }
      ]
    },
    {
      "cell_type": "code",
      "metadata": {
        "colab": {
          "base_uri": "https://localhost:8080/",
          "height": 221
        },
        "id": "HcaB2ODyskGM",
        "outputId": "cd1a7aae-e31d-4863-b638-4613f65a6ead"
      },
      "source": [
        "# Boxplot for calculated_host_listings_count\n",
        "\n",
        "airbnb_clean.calculated_host_listings_count.plot(kind='box', vert=False, figsize=(15,3))\n",
        "plt.tight_layout()"
      ],
      "execution_count": 46,
      "outputs": [
        {
          "output_type": "display_data",
          "data": {
            "image/png": "[encoded data removed]",
            "text/plain": [
              "<Figure size 1080x216 with 1 Axes>"
            ]
          },
          "metadata": {}
        }
      ]
    },
    {
      "cell_type": "markdown",
      "metadata": {
        "id": "yTvfZd6jAMzn"
      },
      "source": [
        "## **5. Exploring and visualising data**\n",
        "\n",
        "After we clean up the data, the next step is exploring it by visualising and analysing the values, looking to answer our questions."
      ]
    },
    {
      "cell_type": "markdown",
      "metadata": {
        "id": "8DG5SVbqBErY"
      },
      "source": [
        "### **5.1 What is the average of minimum nights?**"
      ]
    },
    {
      "cell_type": "code",
      "metadata": {
        "colab": {
          "base_uri": "https://localhost:8080/"
        },
        "id": "L590_kmiA3Yp",
        "outputId": "0b4ffdc5-ef2f-4df5-db46-d2d6665feb6c"
      },
      "source": [
        "# Average of miminum_nights\n",
        "\n",
        "avg_min_nig = airbnb_clean.minimum_nights.mean()\n",
        "print(' The average of minimum nights in New Zealand is {:.1f}.'.format(avg_min_nig))"
      ],
      "execution_count": 25,
      "outputs": [
        {
          "output_type": "stream",
          "name": "stdout",
          "text": [
            " The average of minimum nights in New Zealand is 1.6.\n"
          ]
        }
      ]
    },
    {
      "cell_type": "markdown",
      "metadata": {
        "id": "VzKG2JPACdSb"
      },
      "source": [
        "### **5.2 What is the most rented room type?**\n",
        "\n",
        "Airbnb has four classification of room types as below: \n",
        "\n",
        "* Entire home/apt\n",
        "* Private room\n",
        "* Shared room\n",
        "* Hotel room\n",
        "\n",
        "To see the most rented room type we are going to plot a donut chart."
      ]
    },
    {
      "cell_type": "code",
      "metadata": {
        "colab": {
          "base_uri": "https://localhost:8080/",
          "height": 591
        },
        "id": "CvFtWnWKKzLd",
        "outputId": "1c5be6e4-c7fd-400f-8df3-054614dacf83"
      },
      "source": [
        "# Setting up the labels and sizes\n",
        "\n",
        "labels = airbnb_clean.room_type.unique()\n",
        "sizes = airbnb_clean.room_type.value_counts()\n",
        "\n",
        "# Pie Chart\n",
        "\n",
        "plt.figure(figsize = (15, 10))\n",
        "plt.title(\"Room Type\")\n",
        "plt.pie(sizes, labels = labels, \n",
        "        colors=['teal', 'mediumaquamarine', 'darkgrey', 'lightgrey'], \n",
        "        autopct = '%1.1f%%', startangle = 364, \n",
        "        wedgeprops = {'linewidth': 2, 'edgecolor': 'white'})\n",
        "\n",
        "# Draw circle\n",
        "\n",
        "circle = plt.Circle( (0, 0), 0.7, color = 'white')\n",
        "p = plt.gcf()\n",
        "p.gca().add_artist(circle)\n",
        "\n",
        "# Plot the chart\n",
        "\n",
        "plt.show()"
      ],
      "execution_count": 26,
      "outputs": [
        {
          "output_type": "display_data",
          "data": {
            "image/png": "[encoded data removed]",
            "text/plain": [
              "<Figure size 1080x720 with 1 Axes>"
            ]
          },
          "metadata": {}
        }
      ]
    },
    {
      "cell_type": "markdown",
      "metadata": {
        "id": "eCf0FJNGQxE0"
      },
      "source": [
        "As we can observe in the visualisation, the **Entire home/apt** is the most rented rom type with 62.1% of the listings, followed by Private room with 35.6%."
      ]
    },
    {
      "cell_type": "markdown",
      "metadata": {
        "id": "9cFdp44nRIHZ"
      },
      "source": [
        "### **5.3 What is the average price in the country?**"
      ]
    },
    {
      "cell_type": "code",
      "metadata": {
        "colab": {
          "base_uri": "https://localhost:8080/"
        },
        "id": "vD6TxZXdF6Jf",
        "outputId": "b6da4ab4-50e7-444d-beef-55a56df992b7"
      },
      "source": [
        "# Average of price in New Zealand\n",
        "\n",
        "avg_price = airbnb_clean.price.mean()\n",
        "print('Average Price: NZD {:.2f}'.format(avg_price))"
      ],
      "execution_count": 27,
      "outputs": [
        {
          "output_type": "stream",
          "name": "stdout",
          "text": [
            "Average Price: NZD 154.60\n"
          ]
        }
      ]
    },
    {
      "cell_type": "markdown",
      "metadata": {
        "id": "l9c_IwOvVHKz"
      },
      "source": [
        "The average price paid in New Zealand at airbnb is NZD 154.60."
      ]
    },
    {
      "cell_type": "markdown",
      "metadata": {
        "id": "neS4ydnvrUNO"
      },
      "source": [
        "### **5.4 What is the most expensive and the cheapest location?**"
      ]
    },
    {
      "cell_type": "markdown",
      "metadata": {
        "id": "C8-rzc6DRivQ"
      },
      "source": [
        "#### **5.4.1 Most expensive location**"
      ]
    },
    {
      "cell_type": "code",
      "metadata": {
        "colab": {
          "base_uri": "https://localhost:8080/"
        },
        "id": "Vrq9IYg5RoRM",
        "outputId": "e8148b8d-e052-406e-9587-04360f2d7102"
      },
      "source": [
        "# Average price of top 5 most expensive locations\n",
        "\n",
        "expensive = airbnb_clean.groupby(['neighbourhood_group']).price.mean().round(2).sort_values(ascending = False)[:5]\n",
        "expensive"
      ],
      "execution_count": 28,
      "outputs": [
        {
          "output_type": "execute_result",
          "data": {
            "text/plain": [
              "neighbourhood_group\n",
              "Kaikoura District            204.38\n",
              "Hastings District            202.59\n",
              "Queenstown-Lakes District    198.72\n",
              "Ruapehu District             191.34\n",
              "South Wairarapa District     187.07\n",
              "Name: price, dtype: float64"
            ]
          },
          "metadata": {},
          "execution_count": 28
        }
      ]
    },
    {
      "cell_type": "code",
      "metadata": {
        "colab": {
          "base_uri": "https://localhost:8080/",
          "height": 548
        },
        "id": "MBgIZsDGc-kS",
        "outputId": "8fb84efa-31bd-4668-a34b-e0f667906388"
      },
      "source": [
        "# Plot the bar chart\n",
        "\n",
        "sns.set(rc = {'figure.figsize': (10, 6)})\n",
        "bar_e = expensive.plot(kind = 'bar', color = 'teal')\n",
        "bar_e.set_title('Most expensive locations in New Zealand')\n",
        "bar_e.set_xlabel('Location')\n",
        "bar_e.set_ylabel('Average Price');"
      ],
      "execution_count": 29,
      "outputs": [
        {
          "output_type": "display_data",
          "data": {
            "image/png": "[encoded data removed]",
            "text/plain": [
              "<Figure size 720x432 with 1 Axes>"
            ]
          },
          "metadata": {}
        }
      ]
    },
    {
      "cell_type": "markdown",
      "metadata": {
        "id": "JzW7kmByF9z6"
      },
      "source": [
        "The most expensive location in New Zealand is **Kaikoura**, with an average price of NZD 204.38, followed by Hastings (NZD 202.59), Queenstown (NZD 198.72), Ruapehu (NZD 191.34) and South Wairarapa (NZD 187.07)."
      ]
    },
    {
      "cell_type": "markdown",
      "metadata": {
        "id": "wI2dE56kRrHw"
      },
      "source": [
        "#### **5.4.2 Cheapest location**"
      ]
    },
    {
      "cell_type": "code",
      "metadata": {
        "colab": {
          "base_uri": "https://localhost:8080/"
        },
        "id": "1rzqZtNgStyt",
        "outputId": "73301e4e-f85e-4fe0-9715-21eb6b8787dd"
      },
      "source": [
        "# Average price of top 5 cheapest locations\n",
        "\n",
        "cheap = airbnb_clean.groupby(['neighbourhood_group']).price.mean().round(2).sort_values(ascending = True)[:5]\n",
        "cheap"
      ],
      "execution_count": 30,
      "outputs": [
        {
          "output_type": "execute_result",
          "data": {
            "text/plain": [
              "neighbourhood_group\n",
              "Invercargill City        90.00\n",
              "Tararua District        101.64\n",
              "Upper Hutt City         108.32\n",
              "Waimakariri District    110.98\n",
              "Lower Hutt City         111.44\n",
              "Name: price, dtype: float64"
            ]
          },
          "metadata": {},
          "execution_count": 30
        }
      ]
    },
    {
      "cell_type": "code",
      "metadata": {
        "colab": {
          "base_uri": "https://localhost:8080/",
          "height": 455
        },
        "id": "k7iZyPKzkqxR",
        "outputId": "b7505773-7c85-4ddd-96c1-7edd15b7a5d1"
      },
      "source": [
        "# Plot the bar chart\n",
        "\n",
        "sns.set(rc = {'figure.figsize': (10, 5)})\n",
        "bar_c = cheap.plot(kind = 'bar', color = 'lightseagreen')\n",
        "bar_c.set_title('Cheapest locations in New Zealand')\n",
        "bar_c.set_xlabel('Location')\n",
        "bar_c.set_ylabel('Average Price');"
      ],
      "execution_count": 31,
      "outputs": [
        {
          "output_type": "display_data",
          "data": {
            "image/png": "[encoded data removed]",
            "text/plain": [
              "<Figure size 720x360 with 1 Axes>"
            ]
          },
          "metadata": {}
        }
      ]
    },
    {
      "cell_type": "markdown",
      "metadata": {
        "id": "5MoZYr4NTR4c"
      },
      "source": [
        "The cheapest location in New Zealand is **Invercargill**, with an average price of NZD 90.00, followed by Tararua (NZD 101.64), Upper Hutt (NZD 108.32), Waimakariri (NZD 110.98) and Lower Hutt (NZD 111.44)."
      ]
    },
    {
      "cell_type": "markdown",
      "metadata": {
        "id": "jhYYgGnYSKXq"
      },
      "source": [
        "#### **5.4.3 Properties by latitude-longitude**\n",
        "\n",
        "As latitudes and longitudes of properties are provided, it is possible to plot the scatter chart and see the distribution of listings by price in New Zealand. For this, we considered `x = longitude` and `y = latitude`."
      ]
    },
    {
      "cell_type": "code",
      "metadata": {
        "id": "0CRh_7ntUAjn",
        "colab": {
          "base_uri": "https://localhost:8080/",
          "height": 575
        },
        "outputId": "d8c5c07b-aa91-4472-ff6d-5249b58f62d6"
      },
      "source": [
        "# Plot properties by latitude-longitude\n",
        "\n",
        "airbnb_clean.plot(kind =\"scatter\", x = 'longitude', y = 'latitude', alpha = 0.25, \n",
        "                  c = airbnb_clean['price'], s = 20, cmap = plt.get_cmap('jet'), \n",
        "                  figsize = (10, 10));"
      ],
      "execution_count": 32,
      "outputs": [
        {
          "output_type": "display_data",
          "data": {
            "image/png": "[encoded data removed]",
            "text/plain": [
              "<Figure size 720x720 with 2 Axes>"
            ]
          },
          "metadata": {}
        }
      ]
    },
    {
      "cell_type": "markdown",
      "metadata": {
        "id": "Zat6GU1pTV8o"
      },
      "source": [
        "As checked in the average price, most properties are below NZD 200."
      ]
    },
    {
      "cell_type": "markdown",
      "metadata": {
        "id": "Rc0JXIqwOyGr"
      },
      "source": [
        "### **5.5 What is the location with more properties listed?**"
      ]
    },
    {
      "cell_type": "code",
      "metadata": {
        "colab": {
          "base_uri": "https://localhost:8080/"
        },
        "id": "m1gH-WSKtq7x",
        "outputId": "f7165490-8200-4c3e-fc5c-509f017ed98a"
      },
      "source": [
        "# Top 5 listings by location\n",
        "\n",
        "more_list = airbnb_clean.neighbourhood_group.value_counts().head(5)\n",
        "more_list"
      ],
      "execution_count": 33,
      "outputs": [
        {
          "output_type": "execute_result",
          "data": {
            "text/plain": [
              "Auckland                     4979\n",
              "Queenstown-Lakes District    2043\n",
              "Christchurch City            1753\n",
              "Far North District           1056\n",
              "Tauranga City                1022\n",
              "Name: neighbourhood_group, dtype: int64"
            ]
          },
          "metadata": {},
          "execution_count": 33
        }
      ]
    },
    {
      "cell_type": "code",
      "metadata": {
        "colab": {
          "base_uri": "https://localhost:8080/",
          "height": 393
        },
        "id": "Dt2U39NUNLCq",
        "outputId": "794018ac-9de3-448c-c78b-02dd0fef183a"
      },
      "source": [
        "# Plot the line chart\n",
        "\n",
        "sns.set(rc = {'figure.figsize': (10, 6)})\n",
        "list_bar = more_list.plot(color = 'cadetblue')\n",
        "list_bar.set_title('Top 5 airbnb listings in New Zealand');"
      ],
      "execution_count": 34,
      "outputs": [
        {
          "output_type": "display_data",
          "data": {
            "image/png": "[encoded data removed]",
            "text/plain": [
              "<Figure size 720x432 with 1 Axes>"
            ]
          },
          "metadata": {}
        }
      ]
    },
    {
      "cell_type": "markdown",
      "metadata": {
        "id": "YS_VMkETQ4ln"
      },
      "source": [
        "The location with more listisngs in New Zealand is **Auckland**, with a total of 4,979 listings, followed by Queenstown (2,043), Christchurch (1,753) and Tauranga (1,022)."
      ]
    },
    {
      "cell_type": "markdown",
      "metadata": {
        "id": "R144sk2zQDUx"
      },
      "source": [
        "### **5.6 What is the correlation between the variables?**"
      ]
    },
    {
      "cell_type": "markdown",
      "metadata": {
        "id": "grD2QyA2WQgZ"
      },
      "source": [
        "Correlation means that there is a relationship between two things. In our context, we are looking for a relationship or similarity between two variables.\n",
        "\n",
        "To identify the correlation of the variables, we are going to:\n",
        "\n",
        "* Create a correlation matrix\n",
        "* Generate a heatmap using the `seaborn` library"
      ]
    },
    {
      "cell_type": "code",
      "metadata": {
        "colab": {
          "base_uri": "https://localhost:8080/",
          "height": 266
        },
        "id": "lOTDAb8hOfd5",
        "outputId": "78aaf8f0-815b-4d15-dcb1-7a96ddb9151b"
      },
      "source": [
        "# Create the matrix of correlation\n",
        "\n",
        "corr = airbnb_clean[['price', 'minimum_nights', 'number_of_reviews', 'number_of_reviews_ltm', 'reviews_per_month',\n",
        "    'calculated_host_listings_count', 'availability_365']].corr()\n",
        "\n",
        "display(corr)"
      ],
      "execution_count": 35,
      "outputs": [
        {
          "output_type": "display_data",
          "data": {
            "text/html": [
              "<div>\n",
              "<style scoped>\n",
              "    .dataframe tbody tr th:only-of-type {\n",
              "        vertical-align: middle;\n",
              "    }\n",
              "\n",
              "    .dataframe tbody tr th {\n",
              "        vertical-align: top;\n",
              "    }\n",
              "\n",
              "    .dataframe thead th {\n",
              "        text-align: right;\n",
              "    }\n",
              "</style>\n",
              "<table border=\"1\" class=\"dataframe\">\n",
              "  <thead>\n",
              "    <tr style=\"text-align: right;\">\n",
              "      <th></th>\n",
              "      <th>price</th>\n",
              "      <th>minimum_nights</th>\n",
              "      <th>number_of_reviews</th>\n",
              "      <th>number_of_reviews_ltm</th>\n",
              "      <th>reviews_per_month</th>\n",
              "      <th>calculated_host_listings_count</th>\n",
              "      <th>availability_365</th>\n",
              "    </tr>\n",
              "  </thead>\n",
              "  <tbody>\n",
              "    <tr>\n",
              "      <th>price</th>\n",
              "      <td>1.000000</td>\n",
              "      <td>0.283121</td>\n",
              "      <td>-0.146830</td>\n",
              "      <td>-0.062005</td>\n",
              "      <td>-0.147112</td>\n",
              "      <td>0.077527</td>\n",
              "      <td>0.104837</td>\n",
              "    </tr>\n",
              "    <tr>\n",
              "      <th>minimum_nights</th>\n",
              "      <td>0.283121</td>\n",
              "      <td>1.000000</td>\n",
              "      <td>-0.058886</td>\n",
              "      <td>-0.058718</td>\n",
              "      <td>-0.111878</td>\n",
              "      <td>-0.161115</td>\n",
              "      <td>-0.095428</td>\n",
              "    </tr>\n",
              "    <tr>\n",
              "      <th>number_of_reviews</th>\n",
              "      <td>-0.146830</td>\n",
              "      <td>-0.058886</td>\n",
              "      <td>1.000000</td>\n",
              "      <td>0.571243</td>\n",
              "      <td>0.725652</td>\n",
              "      <td>-0.103419</td>\n",
              "      <td>0.036358</td>\n",
              "    </tr>\n",
              "    <tr>\n",
              "      <th>number_of_reviews_ltm</th>\n",
              "      <td>-0.062005</td>\n",
              "      <td>-0.058718</td>\n",
              "      <td>0.571243</td>\n",
              "      <td>1.000000</td>\n",
              "      <td>0.731694</td>\n",
              "      <td>-0.113313</td>\n",
              "      <td>0.110241</td>\n",
              "    </tr>\n",
              "    <tr>\n",
              "      <th>reviews_per_month</th>\n",
              "      <td>-0.147112</td>\n",
              "      <td>-0.111878</td>\n",
              "      <td>0.725652</td>\n",
              "      <td>0.731694</td>\n",
              "      <td>1.000000</td>\n",
              "      <td>-0.132017</td>\n",
              "      <td>0.015146</td>\n",
              "    </tr>\n",
              "    <tr>\n",
              "      <th>calculated_host_listings_count</th>\n",
              "      <td>0.077527</td>\n",
              "      <td>-0.161115</td>\n",
              "      <td>-0.103419</td>\n",
              "      <td>-0.113313</td>\n",
              "      <td>-0.132017</td>\n",
              "      <td>1.000000</td>\n",
              "      <td>0.142469</td>\n",
              "    </tr>\n",
              "    <tr>\n",
              "      <th>availability_365</th>\n",
              "      <td>0.104837</td>\n",
              "      <td>-0.095428</td>\n",
              "      <td>0.036358</td>\n",
              "      <td>0.110241</td>\n",
              "      <td>0.015146</td>\n",
              "      <td>0.142469</td>\n",
              "      <td>1.000000</td>\n",
              "    </tr>\n",
              "  </tbody>\n",
              "</table>\n",
              "</div>"
            ],
            "text/plain": [
              "                                   price  ...  availability_365\n",
              "price                           1.000000  ...          0.104837\n",
              "minimum_nights                  0.283121  ...         -0.095428\n",
              "number_of_reviews              -0.146830  ...          0.036358\n",
              "number_of_reviews_ltm          -0.062005  ...          0.110241\n",
              "reviews_per_month              -0.147112  ...          0.015146\n",
              "calculated_host_listings_count  0.077527  ...          0.142469\n",
              "availability_365                0.104837  ...          1.000000\n",
              "\n",
              "[7 rows x 7 columns]"
            ]
          },
          "metadata": {}
        }
      ]
    },
    {
      "cell_type": "code",
      "metadata": {
        "colab": {
          "base_uri": "https://localhost:8080/",
          "height": 538
        },
        "id": "bj0rIJtXWloj",
        "outputId": "1f3c1e7c-92e9-489b-ace3-f2f5fcfe33f8"
      },
      "source": [
        "# Generate the heatmap\n",
        "\n",
        "sns.heatmap(corr, cmap = \"YlGnBu\", fmt = '.2f', square = True, linecolor = 'white');"
      ],
      "execution_count": 36,
      "outputs": [
        {
          "output_type": "display_data",
          "data": {
            "image/png": "[encoded data removed]",
            "text/plain": [
              "<Figure size 720x432 with 2 Axes>"
            ]
          },
          "metadata": {}
        }
      ]
    },
    {
      "cell_type": "markdown",
      "metadata": {
        "id": "b8BuphTVDgxM"
      },
      "source": [
        "Correlation ranges from -1 to +1. Values closer to zero means there is no linear trend between the two variables. That means, in our dataset, the strongest relationship is between `reviews_per_month`, `number_of_reviews`, `number_of_reviews_ltm` variables."
      ]
    },
    {
      "cell_type": "markdown",
      "metadata": {
        "id": "hlXG7NazWQ3l"
      },
      "source": [
        "## **6. Conclusion**\n",
        "\n",
        "This study was only a surperficial analysis of airbnb summarized data but we could get some insights from the listings in New Zealand, as below:\n",
        "\n",
        "* Auckland, as the biggest city in the country, is the location with more listings, followed by Queestown, the most touristic place\n",
        "* Kaikoura is the most expensive district\n",
        "* Invercargill is the cheapest city to stay\n",
        "* The average of minimum nights is 1.6, as it is commom to travel and explore the country during the weekends\n",
        "\n",
        "We could also identify some outliers which can distort the statistical information of some attributes.\n",
        "\n",
        "The purpose of this analysis was to perform an initial approach and create some intimacy with this data. For future analysis, the plan is to use the complete dataset, with 106 attributes, to conduct a more robust exploratory analysis."
      ]
    }
  ]
}
